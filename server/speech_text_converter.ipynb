{
 "cells": [
  {
   "cell_type": "code",
   "execution_count": 9,
   "id": "41f69a99",
   "metadata": {},
   "outputs": [],
   "source": [
    "from vosk import Model,KaldiRecognizer\n",
    "import pyaudio"
   ]
  },
  {
   "cell_type": "code",
   "execution_count": 10,
   "id": "cf785f93",
   "metadata": {},
   "outputs": [
    {
     "name": "stdout",
     "output_type": "stream",
     "text": [
      "{\n",
      "  \"text\" : \"\"\n",
      "}\n",
      "{\n",
      "  \"text\" : \"\"\n",
      "}\n",
      "{\n",
      "  \"text\" : \"we're using other co-organizers are called leading organiser using open rate of fifteen thousand on using start screen\"\n",
      "}\n",
      "{\n",
      "  \"text\" : \"data stream of four thousand and ninety six and we are using aseptic may form of data recognizing printing\"\n",
      "}\n",
      "{\n",
      "  \"text\" : \"the result\"\n",
      "}\n",
      "{\n",
      "  \"text\" : \"\"\n",
      "}\n",
      "{\n",
      "  \"text\" : \"port\"\n",
      "}\n",
      "{\n",
      "  \"text\" : \"open rate of fifteen thousand\"\n",
      "}\n",
      "{\n",
      "  \"text\" : \"ninety six\"\n",
      "}\n",
      "{\n",
      "  \"text\" : \"using the asthmatic\"\n",
      "}\n",
      "{\n",
      "  \"text\" : \"home of data\"\n",
      "}\n",
      "{\n",
      "  \"text\" : \"result\"\n",
      "}\n",
      "{\n",
      "  \"text\" : \"but\"\n",
      "}\n",
      "{\n",
      "  \"text\" : \"data\"\n",
      "}\n",
      "{\n",
      "  \"text\" : \"alfalfa\"\n",
      "}\n"
     ]
    },
    {
     "ename": "KeyboardInterrupt",
     "evalue": "",
     "output_type": "error",
     "traceback": [
      "\u001b[1;31m---------------------------------------------------------------------------\u001b[0m",
      "\u001b[1;31mKeyboardInterrupt\u001b[0m                         Traceback (most recent call last)",
      "Cell \u001b[1;32mIn[10], line 9\u001b[0m\n\u001b[0;32m      6\u001b[0m stream\u001b[38;5;241m.\u001b[39mstart_stream()\n\u001b[0;32m      8\u001b[0m \u001b[38;5;28;01mwhile\u001b[39;00m \u001b[38;5;28;01mTrue\u001b[39;00m:\n\u001b[1;32m----> 9\u001b[0m     data\u001b[38;5;241m=\u001b[39mstream\u001b[38;5;241m.\u001b[39mread(\u001b[38;5;241m4096\u001b[39m)\n\u001b[0;32m     10\u001b[0m     \u001b[38;5;28;01mif\u001b[39;00m \u001b[38;5;28mlen\u001b[39m(data) \u001b[38;5;241m==\u001b[39m \u001b[38;5;241m0\u001b[39m:\n\u001b[0;32m     11\u001b[0m         \u001b[38;5;28;01mbreak\u001b[39;00m\n",
      "File \u001b[1;32m~\\AppData\\Roaming\\Python\\Python311\\site-packages\\pyaudio\\__init__.py:570\u001b[0m, in \u001b[0;36mPyAudio.Stream.read\u001b[1;34m(self, num_frames, exception_on_overflow)\u001b[0m\n\u001b[0;32m    567\u001b[0m \u001b[38;5;28;01mif\u001b[39;00m \u001b[38;5;129;01mnot\u001b[39;00m \u001b[38;5;28mself\u001b[39m\u001b[38;5;241m.\u001b[39m_is_input:\n\u001b[0;32m    568\u001b[0m     \u001b[38;5;28;01mraise\u001b[39;00m \u001b[38;5;167;01mIOError\u001b[39;00m(\u001b[38;5;124m\"\u001b[39m\u001b[38;5;124mNot input stream\u001b[39m\u001b[38;5;124m\"\u001b[39m,\n\u001b[0;32m    569\u001b[0m                   paCanNotReadFromAnOutputOnlyStream)\n\u001b[1;32m--> 570\u001b[0m \u001b[38;5;28;01mreturn\u001b[39;00m pa\u001b[38;5;241m.\u001b[39mread_stream(\u001b[38;5;28mself\u001b[39m\u001b[38;5;241m.\u001b[39m_stream, num_frames,\n\u001b[0;32m    571\u001b[0m                       exception_on_overflow)\n",
      "\u001b[1;31mKeyboardInterrupt\u001b[0m: "
     ]
    }
   ],
   "source": [
    "model=Model(r\"C:\\Users\\Srajal\\Desktop\\python\\vosk\\vosk-model-en-in-0.5\")\n",
    "recognizer = KaldiRecognizer(model,16000)\n",
    "\n",
    "mic = pyaudio.PyAudio()\n",
    "stream = mic.open(rate=16000,channels=1,format=pyaudio.paInt16,input=True,frames_per_buffer=8192)\n",
    "stream.start_stream()\n",
    "\n",
    "while True:\n",
    "    data=stream.read(4096)\n",
    "    if len(data) == 0:\n",
    "        break\n",
    "    \n",
    "    if recognizer.AcceptWaveform(data):\n",
    "        print(recognizer.Result())"
   ]
  },
  {
   "cell_type": "code",
   "execution_count": null,
   "id": "86fa6d71",
   "metadata": {},
   "outputs": [],
   "source": []
  }
 ],
 "metadata": {
  "kernelspec": {
   "display_name": "Python 3 (ipykernel)",
   "language": "python",
   "name": "python3"
  },
  "language_info": {
   "codemirror_mode": {
    "name": "ipython",
    "version": 3
   },
   "file_extension": ".py",
   "mimetype": "text/x-python",
   "name": "python",
   "nbconvert_exporter": "python",
   "pygments_lexer": "ipython3",
   "version": "3.11.5"
  }
 },
 "nbformat": 4,
 "nbformat_minor": 5
}
